{
 "cells": [
  {
   "cell_type": "markdown",
   "metadata": {},
   "source": [
    "<style>\n",
    "    body{\n",
    "        --vscode-font-family: \"ComicSansMS\"\n",
    "    }\n",
    "</style>\n",
    "<p style=\"font-family:ComicSansMS; font-size: 48px;\"> LEARN NLP</p>"
   ]
  },
  {
   "cell_type": "markdown",
   "metadata": {},
   "source": [
    "### IMPORT LIBRARY"
   ]
  },
  {
   "cell_type": "code",
   "execution_count": 19,
   "metadata": {},
   "outputs": [],
   "source": [
    "import pandas as pd\n",
    "import numpy as np\n",
    "import seaborn as sns\n",
    "import matplotlib.pyplot as plt"
   ]
  },
  {
   "cell_type": "code",
   "execution_count": 20,
   "metadata": {},
   "outputs": [],
   "source": [
    "df = pd.read_csv(r\"C:\\SEMESTER 5\\STKI\\study_sentimentAnalysis\\data\\train_dataset_20k.csv\")"
   ]
  },
  {
   "cell_type": "code",
   "execution_count": 21,
   "metadata": {},
   "outputs": [
    {
     "data": {
      "text/html": [
       "<div>\n",
       "<style scoped>\n",
       "    .dataframe tbody tr th:only-of-type {\n",
       "        vertical-align: middle;\n",
       "    }\n",
       "\n",
       "    .dataframe tbody tr th {\n",
       "        vertical-align: top;\n",
       "    }\n",
       "\n",
       "    .dataframe thead th {\n",
       "        text-align: right;\n",
       "    }\n",
       "</style>\n",
       "<table border=\"1\" class=\"dataframe\">\n",
       "  <thead>\n",
       "    <tr style=\"text-align: right;\">\n",
       "      <th></th>\n",
       "      <th>Sentiment</th>\n",
       "      <th>id</th>\n",
       "      <th>Date</th>\n",
       "      <th>Query</th>\n",
       "      <th>User</th>\n",
       "      <th>Tweet</th>\n",
       "    </tr>\n",
       "  </thead>\n",
       "  <tbody>\n",
       "    <tr>\n",
       "      <th>0</th>\n",
       "      <td>4</td>\n",
       "      <td>2014351367</td>\n",
       "      <td>Wed Jun 03 01:14:33 PDT 2009</td>\n",
       "      <td>NO_QUERY</td>\n",
       "      <td>cathyleehart</td>\n",
       "      <td>@just_tam21 hahah its kind of the same as adel...</td>\n",
       "    </tr>\n",
       "    <tr>\n",
       "      <th>1</th>\n",
       "      <td>4</td>\n",
       "      <td>1984531826</td>\n",
       "      <td>Sun May 31 15:17:28 PDT 2009</td>\n",
       "      <td>NO_QUERY</td>\n",
       "      <td>carlawaslike</td>\n",
       "      <td>@Austinjamest sweeeet can't wait to go there w...</td>\n",
       "    </tr>\n",
       "    <tr>\n",
       "      <th>2</th>\n",
       "      <td>4</td>\n",
       "      <td>2185079853</td>\n",
       "      <td>Mon Jun 15 16:51:18 PDT 2009</td>\n",
       "      <td>NO_QUERY</td>\n",
       "      <td>Rommellll</td>\n",
       "      <td>You said you changed how wrong i proved you  n...</td>\n",
       "    </tr>\n",
       "    <tr>\n",
       "      <th>3</th>\n",
       "      <td>4</td>\n",
       "      <td>1998128979</td>\n",
       "      <td>Mon Jun 01 18:02:23 PDT 2009</td>\n",
       "      <td>NO_QUERY</td>\n",
       "      <td>pauljopling</td>\n",
       "      <td>I can't wait for New Moon after seeing the tra...</td>\n",
       "    </tr>\n",
       "    <tr>\n",
       "      <th>4</th>\n",
       "      <td>4</td>\n",
       "      <td>2182994010</td>\n",
       "      <td>Mon Jun 15 13:54:26 PDT 2009</td>\n",
       "      <td>NO_QUERY</td>\n",
       "      <td>thisgoodlife</td>\n",
       "      <td>@nicolassa new drum carder? SWEET!</td>\n",
       "    </tr>\n",
       "  </tbody>\n",
       "</table>\n",
       "</div>"
      ],
      "text/plain": [
       "   Sentiment          id                          Date     Query  \\\n",
       "0          4  2014351367  Wed Jun 03 01:14:33 PDT 2009  NO_QUERY   \n",
       "1          4  1984531826  Sun May 31 15:17:28 PDT 2009  NO_QUERY   \n",
       "2          4  2185079853  Mon Jun 15 16:51:18 PDT 2009  NO_QUERY   \n",
       "3          4  1998128979  Mon Jun 01 18:02:23 PDT 2009  NO_QUERY   \n",
       "4          4  2182994010  Mon Jun 15 13:54:26 PDT 2009  NO_QUERY   \n",
       "\n",
       "           User                                              Tweet  \n",
       "0  cathyleehart  @just_tam21 hahah its kind of the same as adel...  \n",
       "1  carlawaslike  @Austinjamest sweeeet can't wait to go there w...  \n",
       "2     Rommellll  You said you changed how wrong i proved you  n...  \n",
       "3   pauljopling  I can't wait for New Moon after seeing the tra...  \n",
       "4  thisgoodlife                @nicolassa new drum carder? SWEET!   "
      ]
     },
     "execution_count": 21,
     "metadata": {},
     "output_type": "execute_result"
    }
   ],
   "source": [
    "df.head()"
   ]
  },
  {
   "cell_type": "code",
   "execution_count": 22,
   "metadata": {},
   "outputs": [
    {
     "data": {
      "text/plain": [
       "0        1\n",
       "1        1\n",
       "2        1\n",
       "3        1\n",
       "4        1\n",
       "        ..\n",
       "19995    0\n",
       "19996    0\n",
       "19997    0\n",
       "19998    0\n",
       "19999    0\n",
       "Name: Sentiment, Length: 20000, dtype: int64"
      ]
     },
     "execution_count": 22,
     "metadata": {},
     "output_type": "execute_result"
    }
   ],
   "source": [
    "df = df.replace(4,1)\n",
    "\n",
    "df['Sentiment']"
   ]
  },
  {
   "cell_type": "code",
   "execution_count": 23,
   "metadata": {},
   "outputs": [
    {
     "data": {
      "text/plain": [
       "Sentiment\n",
       "1    10017\n",
       "0     9983\n",
       "Name: count, dtype: int64"
      ]
     },
     "execution_count": 23,
     "metadata": {},
     "output_type": "execute_result"
    }
   ],
   "source": [
    "df['Sentiment'].value_counts()"
   ]
  },
  {
   "cell_type": "code",
   "execution_count": 24,
   "metadata": {},
   "outputs": [
    {
     "data": {
      "text/html": [
       "<div>\n",
       "<style scoped>\n",
       "    .dataframe tbody tr th:only-of-type {\n",
       "        vertical-align: middle;\n",
       "    }\n",
       "\n",
       "    .dataframe tbody tr th {\n",
       "        vertical-align: top;\n",
       "    }\n",
       "\n",
       "    .dataframe thead th {\n",
       "        text-align: right;\n",
       "    }\n",
       "</style>\n",
       "<table border=\"1\" class=\"dataframe\">\n",
       "  <thead>\n",
       "    <tr style=\"text-align: right;\">\n",
       "      <th></th>\n",
       "      <th>Sentiment</th>\n",
       "      <th>id</th>\n",
       "      <th>Date</th>\n",
       "      <th>Query</th>\n",
       "      <th>User</th>\n",
       "      <th>Tweet</th>\n",
       "    </tr>\n",
       "  </thead>\n",
       "  <tbody>\n",
       "    <tr>\n",
       "      <th>0</th>\n",
       "      <td>1</td>\n",
       "      <td>2014351367</td>\n",
       "      <td>Wed Jun 03 01:14:33 PDT 2009</td>\n",
       "      <td>NO_QUERY</td>\n",
       "      <td>cathyleehart</td>\n",
       "      <td>@just_tam21 hahah its kind of the same as adel...</td>\n",
       "    </tr>\n",
       "    <tr>\n",
       "      <th>1</th>\n",
       "      <td>1</td>\n",
       "      <td>1984531826</td>\n",
       "      <td>Sun May 31 15:17:28 PDT 2009</td>\n",
       "      <td>NO_QUERY</td>\n",
       "      <td>carlawaslike</td>\n",
       "      <td>@Austinjamest sweeeet can't wait to go there w...</td>\n",
       "    </tr>\n",
       "    <tr>\n",
       "      <th>2</th>\n",
       "      <td>1</td>\n",
       "      <td>2185079853</td>\n",
       "      <td>Mon Jun 15 16:51:18 PDT 2009</td>\n",
       "      <td>NO_QUERY</td>\n",
       "      <td>Rommellll</td>\n",
       "      <td>You said you changed how wrong i proved you  n...</td>\n",
       "    </tr>\n",
       "    <tr>\n",
       "      <th>3</th>\n",
       "      <td>1</td>\n",
       "      <td>1998128979</td>\n",
       "      <td>Mon Jun 01 18:02:23 PDT 2009</td>\n",
       "      <td>NO_QUERY</td>\n",
       "      <td>pauljopling</td>\n",
       "      <td>I can't wait for New Moon after seeing the tra...</td>\n",
       "    </tr>\n",
       "    <tr>\n",
       "      <th>4</th>\n",
       "      <td>1</td>\n",
       "      <td>2182994010</td>\n",
       "      <td>Mon Jun 15 13:54:26 PDT 2009</td>\n",
       "      <td>NO_QUERY</td>\n",
       "      <td>thisgoodlife</td>\n",
       "      <td>@nicolassa new drum carder? SWEET!</td>\n",
       "    </tr>\n",
       "  </tbody>\n",
       "</table>\n",
       "</div>"
      ],
      "text/plain": [
       "   Sentiment          id                          Date     Query  \\\n",
       "0          1  2014351367  Wed Jun 03 01:14:33 PDT 2009  NO_QUERY   \n",
       "1          1  1984531826  Sun May 31 15:17:28 PDT 2009  NO_QUERY   \n",
       "2          1  2185079853  Mon Jun 15 16:51:18 PDT 2009  NO_QUERY   \n",
       "3          1  1998128979  Mon Jun 01 18:02:23 PDT 2009  NO_QUERY   \n",
       "4          1  2182994010  Mon Jun 15 13:54:26 PDT 2009  NO_QUERY   \n",
       "\n",
       "           User                                              Tweet  \n",
       "0  cathyleehart  @just_tam21 hahah its kind of the same as adel...  \n",
       "1  carlawaslike  @Austinjamest sweeeet can't wait to go there w...  \n",
       "2     Rommellll  You said you changed how wrong i proved you  n...  \n",
       "3   pauljopling  I can't wait for New Moon after seeing the tra...  \n",
       "4  thisgoodlife                @nicolassa new drum carder? SWEET!   "
      ]
     },
     "execution_count": 24,
     "metadata": {},
     "output_type": "execute_result"
    }
   ],
   "source": [
    "df.head()"
   ]
  },
  {
   "cell_type": "code",
   "execution_count": 25,
   "metadata": {},
   "outputs": [
    {
     "data": {
      "text/plain": [
       "17683    brand new purple fairy pants  http://phunwears...\n",
       "Name: Tweet, dtype: object"
      ]
     },
     "execution_count": 25,
     "metadata": {},
     "output_type": "execute_result"
    }
   ],
   "source": [
    "df['Tweet'].sample()"
   ]
  },
  {
   "cell_type": "code",
   "execution_count": 26,
   "metadata": {},
   "outputs": [
    {
     "data": {
      "text/plain": [
       "(20000, 6)"
      ]
     },
     "execution_count": 26,
     "metadata": {},
     "output_type": "execute_result"
    }
   ],
   "source": [
    "df.shape"
   ]
  },
  {
   "cell_type": "code",
   "execution_count": 27,
   "metadata": {},
   "outputs": [
    {
     "data": {
      "image/png": "[encoded data removed]",
      "text/plain": [
       "<Figure size 1000x500 with 1 Axes>"
      ]
     },
     "metadata": {},
     "output_type": "display_data"
    },
    {
     "data": {
      "text/plain": [
       "Sentiment\n",
       "Positif    10017\n",
       "Negatif     9983\n",
       "Name: count, dtype: int64"
      ]
     },
     "execution_count": 27,
     "metadata": {},
     "output_type": "execute_result"
    }
   ],
   "source": [
    "table = df['Sentiment'].replace({1:'Positif',0:'Negatif'}).value_counts() \\\n",
    "        .plot(kind='bar',\n",
    "              title='Count of Sentiment by Labels',\n",
    "              figsize=(10,5))\n",
    "table.set_xlabel('Labels')\n",
    "plt.show()\n",
    "\n",
    "df['Sentiment'].replace({1:'Positif',0:'Negatif'}).value_counts()"
   ]
  },
  {
   "cell_type": "markdown",
   "metadata": {},
   "source": [
    "***NLTK***"
   ]
  },
  {
   "cell_type": "code",
   "execution_count": 28,
   "metadata": {},
   "outputs": [
    {
     "name": "stdout",
     "output_type": "stream",
     "text": [
      "showing info https://raw.githubusercontent.com/nltk/nltk_data/gh-pages/index.xml\n"
     ]
    },
    {
     "data": {
      "text/plain": [
       "True"
      ]
     },
     "execution_count": 28,
     "metadata": {},
     "output_type": "execute_result"
    }
   ],
   "source": [
    "import nltk\n",
    "nltk.download()"
   ]
  },
  {
   "cell_type": "code",
   "execution_count": 29,
   "metadata": {},
   "outputs": [
    {
     "data": {
      "text/plain": [
       "'@Jessicaca damn no way I can swing that. '"
      ]
     },
     "execution_count": 29,
     "metadata": {},
     "output_type": "execute_result"
    }
   ],
   "source": [
    "import re\n",
    "sentence = df['Tweet'][50]\n",
    "# sentence = df['Tweet'].sample()\n",
    "sentence"
   ]
  },
  {
   "cell_type": "code",
   "execution_count": 30,
   "metadata": {},
   "outputs": [
    {
     "name": "stdout",
     "output_type": "stream",
     "text": [
      "Sebelum ditokenisasi\n",
      "\n",
      "@ursulajefferson yeah - not good for fbi - hope they can keep going \n",
      "@URSULAJEFFERSON YEAH - NOT GOOD FOR FBI - HOPE THEY CAN KEEP GOING \n",
      "\n",
      "Setelah di tokenisasi\n",
      "['@', 'ursulajefferson', 'yeah', '-', 'not', 'good', 'for', 'fbi', '-', 'hope', 'they', 'can', 'keep', 'going']\n",
      "Frequency Tokens : \n",
      "\n",
      "[('-', 2), ('@', 1), ('ursulajefferson', 1), ('yeah', 1), ('not', 1), ('good', 1), ('for', 1), ('fbi', 1), ('hope', 1), ('they', 1), ('can', 1), ('keep', 1), ('going', 1)]\n"
     ]
    }
   ],
   "source": [
    "#Contoh penggunaan nltk\n",
    "\n",
    "# sentence = 'Aku ingin makan Nasi'\n",
    "import re\n",
    "sentence = df['Tweet'][20]\n",
    "\n",
    "\n",
    "lowercase_sentence = sentence.lower()\n",
    "print(\"Sebelum ditokenisasi\")\n",
    "print('\\n'+lowercase_sentence)\n",
    "\n",
    "uppercase_sentence = sentence.upper()\n",
    "\n",
    "print(uppercase_sentence)\n",
    "import string \n",
    "import re #regex library\n",
    "from nltk.tokenize import word_tokenize\n",
    "\n",
    "tokens = nltk.tokenize.word_tokenize(lowercase_sentence)\n",
    "\n",
    "print('\\nSetelah di tokenisasi')\n",
    "print(tokens)\n",
    "\n",
    "from nltk.probability import FreqDist\n",
    "freq_tokens = nltk.FreqDist(tokens)\n",
    "print('Frequency Tokens : \\n')\n",
    "print(freq_tokens.most_common())\n"
   ]
  },
  {
   "cell_type": "markdown",
   "metadata": {},
   "source": [
    "VADER Sentiment Scoring"
   ]
  },
  {
   "cell_type": "code",
   "execution_count": 31,
   "metadata": {},
   "outputs": [],
   "source": [
    "from nltk.sentiment import SentimentIntensityAnalyzer\n",
    "from tqdm.notebook import tqdm\n",
    "\n",
    "sia = SentimentIntensityAnalyzer()"
   ]
  },
  {
   "cell_type": "code",
   "execution_count": 32,
   "metadata": {},
   "outputs": [
    {
     "data": {
      "text/plain": [
       "{'neg': 0.0, 'neu': 0.334, 'pos': 0.666, 'compound': 0.6115}"
      ]
     },
     "execution_count": 32,
     "metadata": {},
     "output_type": "execute_result"
    }
   ],
   "source": [
    "sia.polarity_scores(\"i am so happy\")"
   ]
  },
  {
   "cell_type": "code",
   "execution_count": 33,
   "metadata": {},
   "outputs": [
    {
     "data": {
      "text/plain": [
       "{'neg': 1.0, 'neu': 0.0, 'pos': 0.0, 'compound': -0.5106}"
      ]
     },
     "execution_count": 33,
     "metadata": {},
     "output_type": "execute_result"
    }
   ],
   "source": [
    "sia.polarity_scores('angry')"
   ]
  },
  {
   "cell_type": "code",
   "execution_count": 34,
   "metadata": {},
   "outputs": [
    {
     "data": {
      "application/vnd.jupyter.widget-view+json": {
       "model_id": "aa30b0b3de9448048dc7935a3dc2bdff",
       "version_major": 2,
       "version_minor": 0
      },
      "text/plain": [
       "  0%|          | 0/20000 [00:00<?, ?it/s]"
      ]
     },
     "metadata": {},
     "output_type": "display_data"
    }
   ],
   "source": [
    "#Run the polarty score on the entire dataset\n",
    "res = {}\n",
    "for i, row in tqdm(df.iterrows(), total=len(df)):\n",
    "    text = row['Tweet']\n",
    "    myid = row['id']\n",
    "    res[myid] = sia.polarity_scores(text)"
   ]
  },
  {
   "cell_type": "code",
   "execution_count": 35,
   "metadata": {},
   "outputs": [],
   "source": [
    "vaders = pd.DataFrame(res).T\n",
    "vaders = vaders.reset_index().rename(columns={'index': 'id'})\n",
    "vaders = vaders.merge(df, how='left')"
   ]
  },
  {
   "cell_type": "code",
   "execution_count": 36,
   "metadata": {},
   "outputs": [
    {
     "data": {
      "text/html": [
       "<div>\n",
       "<style scoped>\n",
       "    .dataframe tbody tr th:only-of-type {\n",
       "        vertical-align: middle;\n",
       "    }\n",
       "\n",
       "    .dataframe tbody tr th {\n",
       "        vertical-align: top;\n",
       "    }\n",
       "\n",
       "    .dataframe thead th {\n",
       "        text-align: right;\n",
       "    }\n",
       "</style>\n",
       "<table border=\"1\" class=\"dataframe\">\n",
       "  <thead>\n",
       "    <tr style=\"text-align: right;\">\n",
       "      <th></th>\n",
       "      <th>id</th>\n",
       "      <th>neg</th>\n",
       "      <th>neu</th>\n",
       "      <th>pos</th>\n",
       "      <th>compound</th>\n",
       "      <th>Sentiment</th>\n",
       "      <th>Date</th>\n",
       "      <th>Query</th>\n",
       "      <th>User</th>\n",
       "      <th>Tweet</th>\n",
       "    </tr>\n",
       "  </thead>\n",
       "  <tbody>\n",
       "    <tr>\n",
       "      <th>0</th>\n",
       "      <td>2014351367</td>\n",
       "      <td>0.000</td>\n",
       "      <td>1.000</td>\n",
       "      <td>0.000</td>\n",
       "      <td>0.0000</td>\n",
       "      <td>1</td>\n",
       "      <td>Wed Jun 03 01:14:33 PDT 2009</td>\n",
       "      <td>NO_QUERY</td>\n",
       "      <td>cathyleehart</td>\n",
       "      <td>@just_tam21 hahah its kind of the same as adel...</td>\n",
       "    </tr>\n",
       "    <tr>\n",
       "      <th>1</th>\n",
       "      <td>1984531826</td>\n",
       "      <td>0.000</td>\n",
       "      <td>1.000</td>\n",
       "      <td>0.000</td>\n",
       "      <td>0.0000</td>\n",
       "      <td>1</td>\n",
       "      <td>Sun May 31 15:17:28 PDT 2009</td>\n",
       "      <td>NO_QUERY</td>\n",
       "      <td>carlawaslike</td>\n",
       "      <td>@Austinjamest sweeeet can't wait to go there w...</td>\n",
       "    </tr>\n",
       "    <tr>\n",
       "      <th>2</th>\n",
       "      <td>2185079853</td>\n",
       "      <td>0.193</td>\n",
       "      <td>0.807</td>\n",
       "      <td>0.000</td>\n",
       "      <td>-0.4767</td>\n",
       "      <td>1</td>\n",
       "      <td>Mon Jun 15 16:51:18 PDT 2009</td>\n",
       "      <td>NO_QUERY</td>\n",
       "      <td>Rommellll</td>\n",
       "      <td>You said you changed how wrong i proved you  n...</td>\n",
       "    </tr>\n",
       "    <tr>\n",
       "      <th>3</th>\n",
       "      <td>1998128979</td>\n",
       "      <td>0.000</td>\n",
       "      <td>1.000</td>\n",
       "      <td>0.000</td>\n",
       "      <td>0.0000</td>\n",
       "      <td>1</td>\n",
       "      <td>Mon Jun 01 18:02:23 PDT 2009</td>\n",
       "      <td>NO_QUERY</td>\n",
       "      <td>pauljopling</td>\n",
       "      <td>I can't wait for New Moon after seeing the tra...</td>\n",
       "    </tr>\n",
       "    <tr>\n",
       "      <th>4</th>\n",
       "      <td>2182994010</td>\n",
       "      <td>0.000</td>\n",
       "      <td>0.498</td>\n",
       "      <td>0.502</td>\n",
       "      <td>0.6155</td>\n",
       "      <td>1</td>\n",
       "      <td>Mon Jun 15 13:54:26 PDT 2009</td>\n",
       "      <td>NO_QUERY</td>\n",
       "      <td>thisgoodlife</td>\n",
       "      <td>@nicolassa new drum carder? SWEET!</td>\n",
       "    </tr>\n",
       "  </tbody>\n",
       "</table>\n",
       "</div>"
      ],
      "text/plain": [
       "           id    neg    neu    pos  compound  Sentiment  \\\n",
       "0  2014351367  0.000  1.000  0.000    0.0000          1   \n",
       "1  1984531826  0.000  1.000  0.000    0.0000          1   \n",
       "2  2185079853  0.193  0.807  0.000   -0.4767          1   \n",
       "3  1998128979  0.000  1.000  0.000    0.0000          1   \n",
       "4  2182994010  0.000  0.498  0.502    0.6155          1   \n",
       "\n",
       "                           Date     Query          User  \\\n",
       "0  Wed Jun 03 01:14:33 PDT 2009  NO_QUERY  cathyleehart   \n",
       "1  Sun May 31 15:17:28 PDT 2009  NO_QUERY  carlawaslike   \n",
       "2  Mon Jun 15 16:51:18 PDT 2009  NO_QUERY     Rommellll   \n",
       "3  Mon Jun 01 18:02:23 PDT 2009  NO_QUERY   pauljopling   \n",
       "4  Mon Jun 15 13:54:26 PDT 2009  NO_QUERY  thisgoodlife   \n",
       "\n",
       "                                               Tweet  \n",
       "0  @just_tam21 hahah its kind of the same as adel...  \n",
       "1  @Austinjamest sweeeet can't wait to go there w...  \n",
       "2  You said you changed how wrong i proved you  n...  \n",
       "3  I can't wait for New Moon after seeing the tra...  \n",
       "4                @nicolassa new drum carder? SWEET!   "
      ]
     },
     "execution_count": 36,
     "metadata": {},
     "output_type": "execute_result"
    }
   ],
   "source": [
    "vaders.head(5)"
   ]
  },
  {
   "cell_type": "markdown",
   "metadata": {},
   "source": [
    "Plot VADER result"
   ]
  },
  {
   "cell_type": "code",
   "execution_count": 37,
   "metadata": {},
   "outputs": [
    {
     "data": {
      "image/png": "[encoded data removed]",
      "text/plain": [
       "<Figure size 640x480 with 1 Axes>"
      ]
     },
     "metadata": {},
     "output_type": "display_data"
    }
   ],
   "source": [
    "ax = sns.barplot(data = vaders, x='Sentiment',y ='compound')\n",
    "ax.set_title('dsadasda')\n",
    "plt.show()"
   ]
  }
 ],
 "metadata": {
  "kernelspec": {
   "display_name": "Python 3",
   "language": "python",
   "name": "python3"
  },
  "language_info": {
   "codemirror_mode": {
    "name": "ipython",
    "version": 3
   },
   "file_extension": ".py",
   "mimetype": "text/x-python",
   "name": "python",
   "nbconvert_exporter": "python",
   "pygments_lexer": "ipython3",
   "version": "3.11.0"
  }
 },
 "nbformat": 4,
 "nbformat_minor": 2
}
